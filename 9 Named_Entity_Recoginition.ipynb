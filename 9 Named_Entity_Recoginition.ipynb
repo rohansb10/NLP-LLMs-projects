{
  "nbformat": 4,
  "nbformat_minor": 0,
  "metadata": {
    "colab": {
      "private_outputs": true,
      "provenance": [],
      "gpuType": "T4"
    },
    "kernelspec": {
      "name": "python3",
      "display_name": "Python 3"
    },
    "language_info": {
      "name": "python"
    },
    "accelerator": "GPU"
  },
  "cells": [
    {
      "cell_type": "code",
      "execution_count": null,
      "metadata": {
        "id": "WgzAQ27zl0AQ"
      },
      "outputs": [],
      "source": [
        "import pandas as pd\n",
        "from transformers import pipeline\n"
      ]
    },
    {
      "cell_type": "code",
      "source": [
        "text1 = \"Narendra Modi is prime minister of India\""
      ],
      "metadata": {
        "id": "17J41KCNl5WG"
      },
      "execution_count": null,
      "outputs": []
    },
    {
      "cell_type": "code",
      "source": [
        "ner = pipeline('ner', aggregation_strategy='simple')"
      ],
      "metadata": {
        "id": "XwL844wql3Bq"
      },
      "execution_count": null,
      "outputs": []
    },
    {
      "cell_type": "code",
      "source": [
        "out = ner(text1)\n",
        "print(pd.DataFrame(out))"
      ],
      "metadata": {
        "id": "30JfL047l9lC"
      },
      "execution_count": null,
      "outputs": []
    },
    {
      "cell_type": "code",
      "source": [
        "a= ner('Rohan play cricket in kolhapur.')\n",
        "print(pd.DataFrame(a))"
      ],
      "metadata": {
        "id": "EMt53vUal7Yp"
      },
      "execution_count": null,
      "outputs": []
    }
  ]
}