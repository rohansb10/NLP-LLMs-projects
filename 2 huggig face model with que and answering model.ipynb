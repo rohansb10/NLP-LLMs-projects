{
  "nbformat": 4,
  "nbformat_minor": 0,
  "metadata": {
    "colab": {
      "private_outputs": true,
      "provenance": [],
      "gpuType": "T4"
    },
    "kernelspec": {
      "name": "python3",
      "display_name": "Python 3"
    },
    "language_info": {
      "name": "python"
    },
    "accelerator": "GPU"
  },
  "cells": [
    {
      "cell_type": "code",
      "source": [],
      "metadata": {
        "id": "WvZUC9_8vtTe"
      },
      "execution_count": null,
      "outputs": []
    },
    {
      "cell_type": "code",
      "source": [
        "from transformers import AutoModelForQuestionAnswering, AutoTokenizer, pipeline\n",
        "\n",
        "model_name = \"deepset/roberta-base-squad2\"\n",
        "\n",
        "# a) Get predictions\n",
        "nlp = pipeline('question-answering', model=model_name, tokenizer=model_name)\n",
        "\n",
        "\n",
        "# b) Load model & tokenizer\n",
        "model = AutoModelForQuestionAnswering.from_pretrained(model_name)\n",
        "tokenizer = AutoTokenizer.from_pretrained(model_name)\n"
      ],
      "metadata": {
        "id": "jQvsyj9kvtPw"
      },
      "execution_count": null,
      "outputs": []
    },
    {
      "cell_type": "code",
      "source": [
        "Topic = '''\n",
        "\n",
        "    \"2022 World Cup\" redirects here. For other competitions of that name, see 2022 World Cup (disambiguation).\n",
        "\"FIFA 2022\" redirects here. For the video game, see FIFA 22.\n",
        "2022 FIFA World Cup\n",
        "كأس العالم لكرة القدم 2022\n",
        "Kaʾs al-ʿālam li-kurat al-qadam 2022\n",
        "\n",
        "الآن هو كل شيء‎\n",
        "Al-ʾāna huwa kullu šayʾ\n",
        "\"Now Is All\"[1]\n",
        "Tournament details\n",
        "Host country\tQatar\n",
        "Dates\t20 November – 18 December\n",
        "Teams\t32 (from 5 confederations)\n",
        "Venue(s)\t8 (in 5 host cities)\n",
        "Final positions\n",
        "Champions\t Argentina (3rd title)\n",
        "Runners-up\t France\n",
        "Third place\t Croatia\n",
        "Fourth place\t Morocco\n",
        "Tournament statistics\n",
        "Matches played\t64\n",
        "Goals scored\t172 (2.69 per match)\n",
        "Attendance\t3,404,252 (53,191 per match)\n",
        "Top scorer(s)\tFrance national football team Kylian Mbappé (8 goals)\n",
        "Best player(s)\tArgentina national football team Lionel Messi\n",
        "Best young player\tArgentina national football team Enzo Fernández\n",
        "Best goalkeeper\tArgentina national football team Emiliano Martínez\n",
        "Fair play award\t England\n",
        "← 20182026 →\n",
        "Part of a series on the\n",
        "2022 FIFA World Cup\n",
        "Hosting\n",
        "Qualification\n",
        "Matches\n",
        "Controversies\n",
        "People\n",
        "Promotional and related media\n",
        " Media related to 2022 FIFA World Cup at Wikimedia Commons\n",
        "vte\n",
        "The 2022 FIFA World Cup was the 22nd FIFA World Cup, the world championship for national football teams organized by FIFA. It took place in Qatar from 20 November to 18 December 2022, after the country was awarded the hosting rights in 2010. It was the first World Cup to be held in the Arab world and Muslim world, and the second held entirely in Asia after the 2002 tournament in South Korea and Japan.[A]\n",
        "\n",
        "This tournament was the last with 32 participating teams, with the number of teams being increased to 48 for the 2026 edition. To avoid the extremes of Qatar's hot climate,[B] the event was held in November and December instead of during the traditional months of May, June, or July.[C] It was held over a reduced time frame of 29 days with 64 matches played in eight venues across five cities. Qatar entered the event—their first World Cup—automatically as the host's national team, alongside 31 teams determined by the qualification process.\n",
        "\n",
        "Argentina were crowned the champions after winning the final against the title holder France 4–2 on penalties following a 3–3 draw after extra time. It was Argentina's third title and their first since 1986, as well as being the first nation from outside of Europe to win the tournament since 2002. French player Kylian Mbappé became the first player to score a hat-trick in a World Cup final since Geoff Hurst in the 1966 final and won the Golden Boot as he scored the most goals (eight) during the tournament. Argentine captain Lionel Messi was voted the tournament's best player, winning the Golden Ball. The tournament has been considered exceptionally poetic as the capstone of his career, for some commentators fulfilling a previously unmet criterion to be regarded as one of the greatest players of all time.[4] Teammates Emiliano Martínez and Enzo Fernández won the Golden Glove, awarded to the tournament's best goalkeeper; and the Young Player Award, awarded to the tournament's best young player, respectively. With 172 goals, the tournament set a record for the highest number of goals scored in the 32-team format, with every participating team scoring at least one goal.\n",
        "\n",
        "The choice to host the World Cup in Qatar attracted significant criticism, with concerns raised over the country's treatment of migrant workers, women, and members of the LGBT community, as well as Qatar's climate, lack of a strong football culture, scheduling changes, and allegations of bribery for hosting rights and wider FIFA corruption.[D]\n",
        "\n",
        "Format\n",
        "The FIFA World Cup is a professional football tournament held between national football teams, organised by FIFA.[13][14] The tournament, held every four years, was first played in 1930 in Uruguay,[15] and has been contested by 32 teams since the 1998 event.[15] The tournament was contested with eight round-robin groups followed by a knockout round for 16 teams.[16] The defending champions were France, who defeated Croatia 4–2 in the 2018 FIFA World Cup Final.[17][18] The event was scheduled to take place under a reduced length,[19] from 20 November to 18 December in Qatar.[20][21][22] Being held in Qatar, it was the first World Cup tournament to be held in the Arab world.[23] Spectators were not required to follow most COVID-19 pandemic restrictions such as social distancing, wearing masks, and negative tests.[24]\n",
        "\n",
        "Schedule\n",
        "Unlike previous FIFA World Cups, which are typically played in June and July, because of Qatar's intense summer heat and often fairly high humidity,[2][21][25] the 2022 World Cup was played in November and December.[5][26] As a result, the World Cup was unusually staged in the middle of the seasons of many domestic association football leagues, which started in late July or August, including all of the major European leagues, which had been obliged to incorporate extended breaks into their domestic schedules to accommodate the World Cup. Major European competitions had scheduled their respective competitions group matches to be played before the World Cup, to avoid playing group matches the following year.[27]\n",
        "\n",
        "The match schedule was confirmed by FIFA on 15 July 2020.[28] The group stage was set to begin on 21 November, with four matches every day. Later, the schedule was tweaked by moving the Qatar vs Ecuador game to 20 November, after Qatar lobbied FIFA to allow their team to open the tournament.[29][30][31] The final was played on 18 December 2022, National Day, at Lusail Stadium.[28][32] Unlike previous tournaments where the match venues and kick-off times for each fixture were set prior to the draw, the assignment of group fixtures for each matchday to a specific venue and kick-off time was only made after the final draw, with the teams of each specific fixture known. This was due to the close proximity of the venues, which allowed the organizers to optimize stadium allocation for spectators and kick-off times for television audiences.[28]\n",
        "\n",
        "\n",
        "    '''"
      ],
      "metadata": {
        "id": "e-eY-FSFylKj"
      },
      "execution_count": null,
      "outputs": []
    },
    {
      "cell_type": "code",
      "source": [
        "QA_input = {\n",
        "    'question': 'How many goal score in wc 22',\n",
        "    'context': Topic\n",
        "}\n",
        "res = nlp(QA_input)\n",
        "res"
      ],
      "metadata": {
        "id": "iSoFPe0xv9ko"
      },
      "execution_count": null,
      "outputs": []
    },
    {
      "cell_type": "code",
      "source": [],
      "metadata": {
        "id": "35rbfFCAwE8t"
      },
      "execution_count": null,
      "outputs": []
    }
  ]
}
