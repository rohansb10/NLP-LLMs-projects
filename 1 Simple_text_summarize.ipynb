{
 "cells": [
  {
   "cell_type": "code",
   "execution_count": 3,
   "id": "19d14185",
   "metadata": {
    "ExecuteTime": {
     "end_time": "2024-03-23T13:04:02.122889Z",
     "start_time": "2024-03-23T13:04:02.098088Z"
    }
   },
   "outputs": [
    {
     "name": "stdout",
     "output_type": "stream",
     "text": [
      "Summary:\n",
      "sampl text demonstr text summar use nlp techniqu text summar process involv sever step includ text preprocess word frequenc calcul sentenc score select topscor sentenc first text preprocess convert lowercas remov special charact token sentenc word remov stop word perform stem next word frequenc calcul identifi import word text sentenc score calcul base presenc import word sentenc final topscor sentenc select combin form summari\n"
     ]
    }
   ],
   "source": [
    "import nltk\n",
    "from nltk.corpus import stopwords\n",
    "from nltk.tokenize import word_tokenize, sent_tokenize\n",
    "from nltk.stem import PorterStemmer\n",
    "import re\n",
    "\n",
    "def preprocess_text(text):\n",
    "    # Convert to lowercase\n",
    "    text = text.lower()\n",
    "\n",
    "    # Remove special characters\n",
    "    text = re.sub(r'[^a-zA-Z\\s]', '', text)\n",
    "\n",
    "    # Tokenize the text into sentences\n",
    "    sentences = sent_tokenize(text)\n",
    "\n",
    "    # Tokenize each sentence into words\n",
    "    words = [word_tokenize(sentence) for sentence in sentences]\n",
    "\n",
    "    # Remove stop words\n",
    "    stop_words = set(stopwords.words('english'))\n",
    "    filtered_words = [[word for word in sentence if word not in stop_words] for sentence in words]\n",
    "\n",
    "    # Perform stemming\n",
    "    stemmer = PorterStemmer()\n",
    "    stemmed_words = [[stemmer.stem(word) for word in sentence] for sentence in filtered_words]\n",
    "\n",
    "    return stemmed_words\n",
    "\n",
    "def calculate_sentence_scores(sentences, important_words):\n",
    "    sentence_scores = {}\n",
    "    for sentence in sentences:\n",
    "        word_count = len(sentence)\n",
    "        important_word_count = 0\n",
    "        for word in important_words:\n",
    "            important_word_count += sentence.count(word)\n",
    "        sentence_scores[' '.join(sentence)] = important_word_count / word_count\n",
    "    return sentence_scores\n",
    "\n",
    "def summarize_text(text, max_sentences=5):\n",
    "    # Preprocess the text\n",
    "    processed_text = preprocess_text(text)\n",
    "\n",
    "    # Calculate word frequencies\n",
    "    word_frequencies = {}\n",
    "    for sentence in processed_text:\n",
    "        for word in sentence:\n",
    "            if word in word_frequencies:\n",
    "                word_frequencies[word] += 1\n",
    "            else:\n",
    "                word_frequencies[word] = 1\n",
    "\n",
    "    # Calculate sentence scores\n",
    "    important_words = sorted(word_frequencies.items(), key=lambda x: x[1], reverse=True)[:100]\n",
    "    important_words = [word[0] for word in important_words]\n",
    "    sentence_scores = calculate_sentence_scores(processed_text, important_words)\n",
    "\n",
    "    # Select top-scoring sentences\n",
    "    top_sentences = sorted(sentence_scores.items(), key=lambda x: x[1], reverse=True)[:max_sentences]\n",
    "    summary = ' '.join([sentence for sentence, _ in top_sentences])\n",
    "\n",
    "    return summary\n",
    "\n",
    "# Example usage\n",
    "text = \"\"\"\n",
    "This is a sample text for demonstrating text summarization using NLP techniques.\n",
    "The text summarization process involves several steps, including text preprocessing,\n",
    "word frequency calculation, sentence scoring, and selecting the top-scoring sentences.\n",
    "First, the text is preprocessed by converting it to lowercase, removing special characters,\n",
    "tokenizing it into sentences and words, removing stop words, and performing stemming.\n",
    "Next, word frequencies are calculated to identify the most important words in the text.\n",
    "Sentence scores are then calculated based on the presence of important words in each sentence.\n",
    "Finally, the top-scoring sentences are selected and combined to form the summary.\n",
    "\"\"\"\n",
    "\n",
    "summary = summarize_text(text, max_sentences=3)\n",
    "print(\"Summary:\")\n",
    "print(summary)"
   ]
  },
  {
   "cell_type": "code",
   "execution_count": 7,
   "id": "cde1d37c",
   "metadata": {
    "ExecuteTime": {
     "end_time": "2024-03-23T13:07:23.066531Z",
     "start_time": "2024-03-23T13:07:23.045819Z"
    }
   },
   "outputs": [
    {
     "name": "stdout",
     "output_type": "stream",
     "text": [
      "Summary:\n",
      "mahendra singh dhoni born juli indian profession cricket right hand batter wicketkeep wide regard one prolif wicketkeeperbatsmen captain repres indian cricket team captain side limitedov format test cricket dhoni captain intern match success indian captain led india victori cricket world cup icc world twenti icc champion trophi captain win three differ limit over tournament also led team asia cup member titl win squad born ranchi dhoni made first class debut bihar made debut indian cricket team decemb odi bangladesh play first test year later sri lanka becam captain odi side take format dhoni retir test cricket continu play limit over cricket till score run intern cricket includ plu run averag odi dhoni play chennai super king ipl lead final ten occas win five time also led csk two champion leagu titl amongst batsmen score five thousand run ipl well first wicketkeep dhoni award india highest sport honor major dhyan chand khel ratna award govern india receiv fourth highest civilian award padma shri third highest civilian award padma bhushan dhoni hold honorari rank lieuten colonel parachut regiment indian territori armi present indian armi one popular cricket world\n"
     ]
    }
   ],
   "source": [
    "ms = '''\n",
    "Mahendra Singh Dhoni ( born 7 July 1981)is an Indian professional cricketer. He is a right handed batter and \n",
    "a wicket-keeper. Widely regarded as one of the most prolific wicket-keeper-batsmen and captains, \n",
    "he represented the Indian cricket team and was the captain of the side in limited-overs formats from 2007 to \n",
    "2017 and in test cricket from 2008 to 2014. Dhoni has captained the most international matches and is the most \n",
    "successful Indian captain. He has led India to victory in the 2011 Cricket World Cup, the 2007 ICC World Twenty20 and \n",
    "the 2013 ICC Champions Trophy, the only captain to win three different limited overs tournaments. He also led the teams\n",
    "that won the Asia Cup in 2010, 2016 and was a member of the title winning squad in 2018.\n",
    "\n",
    "Born in Ranchi, Dhoni made his first class debut for Bihar in 1999. He made his debut for the Indian cricket team on 23 \n",
    "December 2004 in an ODI against Bangladesh and played his first test a year later against Sri Lanka. In 2007, he became the\n",
    "captain of the ODI side before taking over in all formats by 2008. Dhoni retired from test cricket in 2014, but continued\n",
    "playing in limited overs cricket till 2019. He has scored 17,266 runs in international cricket including 10,000 plus runs at\n",
    "an average of more than 50 in ODIs.\n",
    "\n",
    "Dhoni plays for Chennai Super Kings in the IPL, leading them to the final on ten occasions and winning it five times \n",
    "(2010, 2011, 2018, 2021 and 2023). He has also led CSK to two Champions League T20 titles in 2010 and 2014. He is amongst the\n",
    "few batsmen to have scored more than five thousand runs in the IPL, as well as being the first wicket-keeper to do so.\n",
    "\n",
    "In 2008, Dhoni was awarded India's highest sport honor Major Dhyan Chand Khel Ratna Award by Government of India. He received\n",
    "the fourth highest civilian award Padma Shri in 2009 and third highest civilian award Padma Bhushan in 2018. Dhoni holds an\n",
    "honorary rank of Lieutenant Colonel in the Parachute Regiment of the Indian Territorial Army which was presented to him by \n",
    "the Indian Army in 2011. He is one of the most popular cricketers in the world.\n",
    "'''\n",
    "\n",
    "summary = summarize_text(ms, max_sentences=1)\n",
    "print(\"Summary:\")\n",
    "print(summary)"
   ]
  },
  {
   "cell_type": "code",
   "execution_count": null,
   "id": "7b4b4a2a",
   "metadata": {},
   "outputs": [],
   "source": []
  }
 ],
 "metadata": {
  "kernelspec": {
   "display_name": "Python 3 (ipykernel)",
   "language": "python",
   "name": "python3"
  },
  "language_info": {
   "codemirror_mode": {
    "name": "ipython",
    "version": 3
   },
   "file_extension": ".py",
   "mimetype": "text/x-python",
   "name": "python",
   "nbconvert_exporter": "python",
   "pygments_lexer": "ipython3",
   "version": "3.11.5"
  },
  "toc": {
   "base_numbering": 1,
   "nav_menu": {},
   "number_sections": true,
   "sideBar": true,
   "skip_h1_title": false,
   "title_cell": "Table of Contents",
   "title_sidebar": "Contents",
   "toc_cell": false,
   "toc_position": {},
   "toc_section_display": true,
   "toc_window_display": false
  },
  "varInspector": {
   "cols": {
    "lenName": 16,
    "lenType": 16,
    "lenVar": 40
   },
   "kernels_config": {
    "python": {
     "delete_cmd_postfix": "",
     "delete_cmd_prefix": "del ",
     "library": "var_list.py",
     "varRefreshCmd": "print(var_dic_list())"
    },
    "r": {
     "delete_cmd_postfix": ") ",
     "delete_cmd_prefix": "rm(",
     "library": "var_list.r",
     "varRefreshCmd": "cat(var_dic_list()) "
    }
   },
   "types_to_exclude": [
    "module",
    "function",
    "builtin_function_or_method",
    "instance",
    "_Feature"
   ],
   "window_display": false
  }
 },
 "nbformat": 4,
 "nbformat_minor": 5
}
