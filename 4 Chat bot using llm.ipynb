{
  "nbformat": 4,
  "nbformat_minor": 0,
  "metadata": {
    "colab": {
      "private_outputs": true,
      "provenance": []
    },
    "kernelspec": {
      "name": "python3",
      "display_name": "Python 3"
    },
    "language_info": {
      "name": "python"
    }
  },
  "cells": [
    {
      "cell_type": "code",
      "execution_count": null,
      "metadata": {
        "id": "zQf9yS2tU5mb"
      },
      "outputs": [],
      "source": [
        "import tensorflow as tf\n",
        "from transformers import BlenderbotTokenizer, TFBlenderbotForConditionalGeneration\n",
        "\n",
        "# Load pre-trained Blenderbot model and tokenizer\n",
        "tokenizer = BlenderbotTokenizer.from_pretrained('facebook/blenderbot-400M-distill')\n",
        "model = TFBlenderbotForConditionalGeneration.from_pretrained('facebook/blenderbot-400M-distill')\n",
        "\n",
        "# Define the dialogue context\n",
        "context = \"Hello, how are you doing today?\"\n",
        "\n",
        "# Generate the response\n",
        "input_ids = tokenizer(context, return_tensors='tf').input_ids\n",
        "output_ids = model.generate(input_ids, max_length=100, num_beams=5, early_stopping=True)\n",
        "response = tokenizer.decode(output_ids[0], skip_special_tokens=True)"
      ]
    },
    {
      "cell_type": "code",
      "source": [
        "import tensorflow as tf\n",
        "from transformers import BlenderbotTokenizer, TFBlenderbotForConditionalGeneration\n",
        "\n",
        "# Load pre-trained Blenderbot model and tokenizer\n",
        "tokenizer = BlenderbotTokenizer.from_pretrained('facebook/blenderbot-400M-distill')\n",
        "model = TFBlenderbotForConditionalGeneration.from_pretrained('facebook/blenderbot-400M-distill')\n",
        "\n",
        "while True:\n",
        "    # Get user input\n",
        "    user_input = input(\"You: \")\n",
        "\n",
        "    # Check if the user wants to exit\n",
        "    if user_input.lower() == 'exit':\n",
        "        print(\"Goodbye!\")\n",
        "        break\n",
        "\n",
        "    # Generate the response\n",
        "    input_ids = tokenizer(user_input, return_tensors='tf').input_ids\n",
        "    output_ids = model.generate(input_ids, max_length=100, early_stopping=True)\n",
        "    response = tokenizer.decode(output_ids[0], skip_special_tokens=True)\n",
        "\n",
        "    # Print the response\n",
        "    print(\"Chat Bot:\", response)\n"
      ],
      "metadata": {
        "id": "dB6URLOIWq5z"
      },
      "execution_count": null,
      "outputs": []
    }
  ]
}